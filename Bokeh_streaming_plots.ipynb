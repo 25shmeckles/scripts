{
 "cells": [
  {
   "cell_type": "code",
   "execution_count": null,
   "metadata": {
    "collapsed": true
   },
   "outputs": [],
   "source": [
    "import time\n",
    "import numpy as np\n",
    "from bokeh.models.sources import ColumnDataSource\n",
    "from bokeh.plotting import figure\n",
    "from bokeh.io import output_notebook, show, push_notebook\n",
    "\n",
    "output_notebook()\n",
    "\n",
    "my_figure = figure(plot_width=800, plot_height=400)\n",
    "test_data = ColumnDataSource(data=dict(x=[0], y=[0]))\n",
    "line = my_figure.line(\"x\", \"y\", source=test_data)\n",
    "handle = show(my_figure, notebook_handle=True)\n",
    "\n",
    "new_data=dict(x=[0], y=[0])\n",
    "x = []\n",
    "y = []\n",
    "\n",
    "step = 0\n",
    "step_size = 0.1  # increment for increasing step\n",
    "max_step = 10  # arbitrary stop point for example\n",
    "period = 1  # in seconds (simulate waiting for new data)\n",
    "n_show = 10  # number of points to keep and show\n",
    "\n",
    "\n",
    "while step < max_step:\n",
    "    x.append(step)\n",
    "    y.append(np.random.rand())\n",
    "    new_data['x'] = x = x[-n_show:]  # prevent filling ram\n",
    "    new_data['y'] = y = y[-n_show:]  # prevent filling ram\n",
    "\n",
    "    test_data.stream(new_data, n_show)\n",
    "\n",
    "    push_notebook(handle=handle)\n",
    "    step += step_size\n",
    "    time.sleep(period)"
   ]
  },
  {
   "cell_type": "code",
   "execution_count": 2,
   "metadata": {},
   "outputs": [
    {
     "ename": "ModuleNotFoundError",
     "evalue": "No module named 'bokeh.objects'",
     "output_type": "error",
     "traceback": [
      "\u001b[0;31m---------------------------------------------------------------------------\u001b[0m",
      "\u001b[0;31mModuleNotFoundError\u001b[0m                       Traceback (most recent call last)",
      "\u001b[0;32m<ipython-input-2-c94782097267>\u001b[0m in \u001b[0;36m<module>\u001b[0;34m()\u001b[0m\n\u001b[1;32m      4\u001b[0m \u001b[0;32mimport\u001b[0m \u001b[0mre\u001b[0m\u001b[0;34m\u001b[0m\u001b[0m\n\u001b[1;32m      5\u001b[0m \u001b[0;32mfrom\u001b[0m \u001b[0mbokeh\u001b[0m\u001b[0;34m.\u001b[0m\u001b[0mplotting\u001b[0m \u001b[0;32mimport\u001b[0m \u001b[0;34m*\u001b[0m\u001b[0;34m\u001b[0m\u001b[0m\n\u001b[0;32m----> 6\u001b[0;31m \u001b[0;32mfrom\u001b[0m \u001b[0mbokeh\u001b[0m\u001b[0;34m.\u001b[0m\u001b[0mobjects\u001b[0m \u001b[0;32mimport\u001b[0m \u001b[0mGlyphRenderer\u001b[0m\u001b[0;34m\u001b[0m\u001b[0m\n\u001b[0m\u001b[1;32m      7\u001b[0m \u001b[0;34m\u001b[0m\u001b[0m\n\u001b[1;32m      8\u001b[0m \u001b[0mMAX_HISTORY\u001b[0m \u001b[0;34m=\u001b[0m \u001b[0;36m1000\u001b[0m\u001b[0;34m\u001b[0m\u001b[0m\n",
      "\u001b[0;31mModuleNotFoundError\u001b[0m: No module named 'bokeh.objects'"
     ]
    }
   ],
   "source": [
    "\"\"\"\n",
    "  Need to run `ping google.com >> /tmp/google.txt` in another terminal.\n",
    "\"\"\"\n",
    "import re\n",
    "from bokeh.plotting import *\n",
    "from bokeh.objects import GlyphRenderer\n",
    "\n",
    "MAX_HISTORY = 1000\n",
    "output_server(\"ping\")\n",
    "\n",
    "def tail_generator(filename=\"/tmp/google.txt\", interval=0.5):\n",
    "    \"\"\"\n",
    "    Reads file and then `tails` it -- checking at interval seconds\n",
    "    Adapted from: http://code.activestate.com/recipes/157035-tail-f-in-python/\n",
    "    \"\"\"\n",
    "    with open(filename, 'r') as f:\n",
    "        while True:\n",
    "            where = f.tell()\n",
    "            line = f.readline()\n",
    "            if not line:\n",
    "                time.sleep(interval)\n",
    "                f.seek(where)\n",
    "            else:\n",
    "                yield line\n",
    "\n",
    "def parse_line(line):\n",
    "    \"\"\"Find sequence and rtt -- return as int, float or return None\"\"\"\n",
    "    regex = re.compile(r'icmp_seq=(?P<seq>[0-9]+) .* time=(?P<time>[0-9.]+) ms')\n",
    "    m = regex.search(line)\n",
    "    if not m:\n",
    "        return None\n",
    "    return int(m.groupdict()[\"seq\"]), float(m.groupdict()[\"time\"])\n",
    "\n",
    "x = [-1]\n",
    "y = [0]\n",
    "line(x,y)\n",
    "#show()\n",
    "\n",
    "renderer = [r for r in curplot().renderers if isinstance(r, GlyphRenderer)][0]\n",
    "ds = renderer.data_source\n",
    "\n",
    "f = tail_generator()\n",
    "for line_ in f:\n",
    "    \n",
    "    data = parse_line(line_)\n",
    "    if data is None:\n",
    "        continue\n",
    "    x.append(data[0])\n",
    "    y.append(data[1])\n",
    "    \n",
    "    if len(x) > MAX_HISTORY:\n",
    "        x = x[-MAX_HISTORY:]\n",
    "    if len(y) > MAX_HISTORY:\n",
    "        y = y[-MAX_HISTORY:]\n",
    "    ds.data[\"x\"] = x\n",
    "    ds.data[\"y\"] = y\n",
    "   \n",
    "    ds._dirty = True\n",
    "    session().store_obj(ds)\n",
    "    time.sleep(.01)"
   ]
  },
  {
   "cell_type": "code",
   "execution_count": null,
   "metadata": {
    "collapsed": true
   },
   "outputs": [],
   "source": []
  }
 ],
 "metadata": {
  "kernelspec": {
   "display_name": "Python 3",
   "language": "python",
   "name": "python3"
  },
  "language_info": {
   "codemirror_mode": {
    "name": "ipython",
    "version": 3
   },
   "file_extension": ".py",
   "mimetype": "text/x-python",
   "name": "python",
   "nbconvert_exporter": "python",
   "pygments_lexer": "ipython3",
   "version": "3.6.1"
  }
 },
 "nbformat": 4,
 "nbformat_minor": 2
}
