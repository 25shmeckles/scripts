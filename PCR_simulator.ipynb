{
 "cells": [
  {
   "cell_type": "code",
   "execution_count": 26,
   "metadata": {
    "collapsed": true
   },
   "outputs": [],
   "source": [
    "def reverse(sequence):\n",
    "    '''Takes a DNA sequence as input.\n",
    "    Returns its reverse sequence.'''\n",
    "    reversed_sequence = ''\n",
    "    for n in range(len(sequence)):\n",
    "        reversed_sequence += sequence[-(1+n)]\n",
    "    return reversed_sequence\n",
    "\n",
    "def complement(sequence):\n",
    "    '''Takes a DNA sequence as input.\n",
    "    Returns its complementary sequence.'''\n",
    "    complementary_sequence = ''\n",
    "    for base in sequence:\n",
    "        if base == 'A':\n",
    "            complementary_sequence += 'T'\n",
    "        elif base == 'T':\n",
    "            complementary_sequence += 'A'\n",
    "        elif base == 'C':\n",
    "            complementary_sequence += 'G'\n",
    "        elif base == 'G':\n",
    "            complementary_sequence += 'C'\n",
    "        else:\n",
    "            raise ValueError(\"##Error!! Non ATCG base found! in {}\".format(sequence))\n",
    "    return complementary_sequence\n",
    "\n",
    "    \n",
    "    "
   ]
  },
  {
   "cell_type": "code",
   "execution_count": 31,
   "metadata": {
    "collapsed": false
   },
   "outputs": [],
   "source": [
    "##PCR\n",
    "def pcr(template,primer_F,primer_R):\n",
    "    import re\n",
    "\n",
    "    #Find primer_F, or the largest 3'part of it, in template\n",
    "    for n in range(len(primer_F)):\n",
    "        ix_F = [m.end() for m in re.finditer(primer_F[n:].upper(),\n",
    "                                           template.upper())]\n",
    "        if len(ix_F) == 1: #it's unique\n",
    "            #print(ix_F)\n",
    "            #print(primer_F[n:])\n",
    "            break\n",
    "        n += 1\n",
    "\n",
    "    #Find primer_F, or the largest 5'part of it, in template\n",
    "    rc_R = reverse(complement(primer_R))\n",
    "    for n in range(len(primer_R)):\n",
    "        ix = [m.start() for m in re.finditer(rc_R[:n].upper(),\n",
    "                                           template.upper())]\n",
    "        if len(ix) == 1: #it's unique\n",
    "            ix_R = ix[:]\n",
    "\n",
    "        if len(ix) < 1: #it's the largest possible\n",
    "            #print(ix_R)\n",
    "            #print(rc_R[:n])\n",
    "            break\n",
    "        n += 1\n",
    "\n",
    "    #Build the product\n",
    "    return primer_F + template[ix_F[0]:ix_R[0]] + rc_R"
   ]
  },
  {
   "cell_type": "code",
   "execution_count": 32,
   "metadata": {
    "collapsed": false
   },
   "outputs": [
    {
     "data": {
      "text/plain": [
       "True"
      ]
     },
     "execution_count": 32,
     "metadata": {},
     "output_type": "execute_result"
    }
   ],
   "source": [
    "template = 'CTAGAGAGGGCCTATTTCCCATGATT--something--GCCAATTCTGCAGACAAATGGGGTACCCG'\n",
    "primer_F = 'GACAAATGGCTCTAGAGAGGGCCTATTTCCCATGATT'\n",
    "primer_R = 'TTATGTAACGGGTACCCCATTTGTCTGCAGAATTGGC'\n",
    "product = pcr(template,primer_F,primer_R)\n",
    "expected = 'GACAAATGGCTCTAGAGAGGGCCTATTTCCCATGATT--something--GCCAATTCTGCAGACAAATGGGGTACCCGTTACATAA'\n",
    "expected == result"
   ]
  },
  {
   "cell_type": "code",
   "execution_count": 28,
   "metadata": {
    "collapsed": false
   },
   "outputs": [
    {
     "data": {
      "text/plain": [
       "True"
      ]
     },
     "execution_count": 28,
     "metadata": {},
     "output_type": "execute_result"
    }
   ],
   "source": [
    "expected = 'GACAAATGGCTCTAGAGAGGGCCTATTTCCCATGATT--something--GCCAATTCTGCAGACAAATGGGGTACCCGTTACATAA'\n",
    "result = pcr_product    \n"
   ]
  },
  {
   "cell_type": "code",
   "execution_count": 105,
   "metadata": {
    "collapsed": false
   },
   "outputs": [
    {
     "data": {
      "text/plain": [
       "['%', '//', '*', '-', '+', '/', '**']"
      ]
     },
     "execution_count": 105,
     "metadata": {},
     "output_type": "execute_result"
    }
   ],
   "source": [
    "random.shuffle(math_operators)\n",
    "math_operators"
   ]
  },
  {
   "cell_type": "code",
   "execution_count": null,
   "metadata": {
    "collapsed": false
   },
   "outputs": [],
   "source": [
    "result[453:]"
   ]
  },
  {
   "cell_type": "code",
   "execution_count": null,
   "metadata": {
    "collapsed": false
   },
   "outputs": [],
   "source": [
    "expected[453:]"
   ]
  },
  {
   "cell_type": "code",
   "execution_count": null,
   "metadata": {
    "collapsed": false
   },
   "outputs": [],
   "source": [
    "expected == result"
   ]
  },
  {
   "cell_type": "code",
   "execution_count": null,
   "metadata": {
    "collapsed": false
   },
   "outputs": [],
   "source": [
    "template[partial_F:len(template)-partial_R]"
   ]
  },
  {
   "cell_type": "code",
   "execution_count": null,
   "metadata": {
    "collapsed": true
   },
   "outputs": [],
   "source": []
  }
 ],
 "metadata": {
  "kernelspec": {
   "display_name": "Python 3",
   "language": "python",
   "name": "python3"
  },
  "language_info": {
   "codemirror_mode": {
    "name": "ipython",
    "version": 3
   },
   "file_extension": ".py",
   "mimetype": "text/x-python",
   "name": "python",
   "nbconvert_exporter": "python",
   "pygments_lexer": "ipython3",
   "version": "3.5.1"
  }
 },
 "nbformat": 4,
 "nbformat_minor": 0
}
