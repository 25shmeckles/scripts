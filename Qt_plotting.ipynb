{
 "cells": [
  {
   "cell_type": "code",
   "execution_count": 1,
   "metadata": {},
   "outputs": [
    {
     "ename": "SystemExit",
     "evalue": "0",
     "output_type": "error",
     "traceback": [
      "An exception has occurred, use %tb to see the full traceback.\n",
      "\u001b[0;31mSystemExit\u001b[0m\u001b[0;31m:\u001b[0m 0\n"
     ]
    },
    {
     "name": "stderr",
     "output_type": "stream",
     "text": [
      "/Users/amarcozzi/Homebrew/Cellar/python3/3.6.1/Frameworks/Python.framework/Versions/3.6/lib/python3.6/site-packages/IPython/core/interactiveshell.py:2870: UserWarning: To exit: use 'exit', 'quit', or Ctrl-D.\n",
      "  warn(\"To exit: use 'exit', 'quit', or Ctrl-D.\", stacklevel=1)\n"
     ]
    }
   ],
   "source": [
    "\"\"\"\n",
    "Simple example illustrating Qt Charts capabilities to plot curves with \n",
    "a high number of points, using OpenGL accelerated series\n",
    "\"\"\"\n",
    "\n",
    "from PyQt5.QtChart import QChart, QChartView, QLineSeries\n",
    "from PyQt5.QtGui import QPolygonF, QPainter\n",
    "from PyQt5.QtWidgets import QMainWindow\n",
    "\n",
    "import numpy as np\n",
    "\n",
    "\n",
    "def series_to_polyline(xdata, ydata):\n",
    "    \"\"\"Convert series data to QPolygon(F) polyline\n",
    "\n",
    "    This code is derived from PythonQwt's function named \n",
    "    `qwt.plot_curve.series_to_polyline`\"\"\"\n",
    "    size = len(xdata)\n",
    "    polyline = QPolygonF(size)\n",
    "    pointer = polyline.data()\n",
    "    dtype, tinfo = np.float, np.finfo  # integers: = np.int, np.iinfo\n",
    "    pointer.setsize(2*polyline.size()*tinfo(dtype).dtype.itemsize)\n",
    "    memory = np.frombuffer(pointer, dtype)\n",
    "    memory[:(size-1)*2+1:2] = xdata\n",
    "    memory[1:(size-1)*2+2:2] = ydata\n",
    "    return polyline    \n",
    "\n",
    "\n",
    "class TestWindow(QMainWindow):\n",
    "    def __init__(self, parent=None):\n",
    "        super(TestWindow, self).__init__(parent=parent)\n",
    "        self.ncurves = 0\n",
    "        self.chart = QChart()\n",
    "        self.chart.legend().hide()\n",
    "        self.view = QChartView(self.chart)\n",
    "        self.view.setRenderHint(QPainter.Antialiasing)\n",
    "        self.setCentralWidget(self.view)\n",
    "\n",
    "    def set_title(self, title):\n",
    "        self.chart.setTitle(title)\n",
    "\n",
    "    def add_data(self, xdata, ydata, color=None):\n",
    "        curve = QLineSeries()\n",
    "        pen = curve.pen()\n",
    "        if color is not None:\n",
    "            pen.setColor(color)\n",
    "        pen.setWidthF(.1)\n",
    "        curve.setPen(pen)\n",
    "        curve.setUseOpenGL(True)\n",
    "        curve.append(series_to_polyline(xdata, ydata))\n",
    "        self.chart.addSeries(curve)\n",
    "        self.chart.createDefaultAxes()\n",
    "        self.ncurves += 1\n",
    "\n",
    "\n",
    "if __name__ == '__main__':\n",
    "    import sys\n",
    "    from PyQt5.QtWidgets import QApplication\n",
    "    from PyQt5.QtCore import Qt\n",
    "    app = QApplication(sys.argv)\n",
    "\n",
    "    window = TestWindow()\n",
    "\n",
    "    npoints = 1000000\n",
    "    xdata = np.linspace(0., 10., npoints)\n",
    "    window.add_data(xdata, np.sin(xdata), color=Qt.red)\n",
    "    window.add_data(xdata, np.cos(xdata), color=Qt.blue)\n",
    "    window.set_title(\"Simple example with %d curves of %d points \"\\\n",
    "                     \"(OpenGL Accelerated Series)\"\\\n",
    "                     % (window.ncurves, npoints))\n",
    "    window.setWindowTitle(\"Simple performance example\")\n",
    "    window.show()\n",
    "    window.resize(500, 400)\n",
    "\n",
    "    sys.exit(app.exec_())"
   ]
  },
  {
   "cell_type": "code",
   "execution_count": 2,
   "metadata": {},
   "outputs": [
    {
     "name": "stdout",
     "output_type": "stream",
     "text": [
      "something\n"
     ]
    }
   ],
   "source": [
    "print('something')"
   ]
  },
  {
   "cell_type": "code",
   "execution_count": 5,
   "metadata": {},
   "outputs": [
    {
     "name": "stdout",
     "output_type": "stream",
     "text": [
      "x: 43 \ty: 42\n",
      "x: [99, 1, 2, 3, 4] \ty: [99, 1, 2, 3, 4]\n"
     ]
    }
   ],
   "source": [
    "x = 42\n",
    "y = x\n",
    "x += 1\n",
    "print('x:',x,'\\ty:',y)\n",
    "\n",
    "x = [0,1,2,3,4]\n",
    "y = x\n",
    "x[0] = 99\n",
    "print('x:',x,'\\ty:',y)"
   ]
  },
  {
   "cell_type": "code",
   "execution_count": null,
   "metadata": {
    "collapsed": true
   },
   "outputs": [],
   "source": []
  }
 ],
 "metadata": {
  "kernelspec": {
   "display_name": "Python 3",
   "language": "python",
   "name": "python3"
  },
  "language_info": {
   "codemirror_mode": {
    "name": "ipython",
    "version": 3
   },
   "file_extension": ".py",
   "mimetype": "text/x-python",
   "name": "python",
   "nbconvert_exporter": "python",
   "pygments_lexer": "ipython3",
   "version": "3.6.1"
  }
 },
 "nbformat": 4,
 "nbformat_minor": 2
}
