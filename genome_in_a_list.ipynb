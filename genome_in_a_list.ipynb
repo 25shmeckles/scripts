{
 "cells": [
  {
   "cell_type": "code",
   "execution_count": 39,
   "metadata": {
    "collapsed": false
   },
   "outputs": [],
   "source": [
    "import random\n",
    "g = 10  # number of genes\n",
    "m = 10  # max length of a gene, a gene is a collection of integers \"v\"\n",
    "v = 100 # max value for \"v\"\n",
    "genome = [[random.randint(0,v) for _ in range(random.randint(0,m))] for _ in range(g)]"
   ]
  },
  {
   "cell_type": "code",
   "execution_count": 40,
   "metadata": {
    "collapsed": false
   },
   "outputs": [
    {
     "data": {
      "text/plain": [
       "[[43, 89, 88, 77, 28, 22],\n",
       " [85, 63, 30, 63, 86, 45, 77, 30],\n",
       " [0, 59, 98, 74, 20],\n",
       " [81, 11, 61],\n",
       " [79, 90, 42, 61, 36, 91, 99, 56],\n",
       " [17, 14, 29, 23, 74, 98],\n",
       " [7, 97, 78, 82, 100, 95, 97, 13],\n",
       " [18, 45, 10, 43],\n",
       " [53, 15, 36, 46, 98, 47],\n",
       " [73, 18, 19, 18, 32, 0, 86, 35, 22, 28]]"
      ]
     },
     "execution_count": 40,
     "metadata": {},
     "output_type": "execute_result"
    }
   ],
   "source": [
    "genome"
   ]
  },
  {
   "cell_type": "code",
   "execution_count": 168,
   "metadata": {
    "collapsed": false
   },
   "outputs": [],
   "source": [
    "def mutate(genome, t='deletion', p=0.1):\n",
    "    \n",
    "    if t == 'SNP':\n",
    "        new_genome = []\n",
    "        for gene in genome:\n",
    "            pg = random.random()\n",
    "            if pg <= p:\n",
    "                i = random.randint(0,len(gene)-1)\n",
    "                SNP = gene[:]\n",
    "                SNP[i] = random.randint(0,100)\n",
    "                new_genome.append(SNP)\n",
    "                print('SNP generated! From {} to {}'.format(gene,SNP))\n",
    "            else:\n",
    "                new_genome.append(gene)\n",
    "        return new_genome\n",
    "        \n",
    "    \n",
    "    if t == 'deletion':\n",
    "        new_genome = genome[:]\n",
    "        for gene in genome:\n",
    "            pg = random.random()\n",
    "            if pg <= p:\n",
    "                new_genome.remove(gene)\n",
    "                print('Deleted {}'.format(gene))\n",
    "        #print('Deleted {} gene/s'.format(len(genome)-len(new_genome)))\n",
    "        return new_genome\n",
    "    \n",
    "    if t == 'inversion':\n",
    "        new_genome = []\n",
    "        for gene in genome:\n",
    "            pg = random.random()\n",
    "            if pg <= p:\n",
    "                inverted = gene[::-1]\n",
    "                new_genome.append(inverted)\n",
    "                print('Inverted {} to {}'.format(gene,inverted))\n",
    "            else:\n",
    "                new_genome.append(gene)\n",
    "        return new_genome\n",
    "    \n",
    "    if t == 'duplication':\n",
    "        new_genome = []\n",
    "        for gene in genome:\n",
    "            pg = random.random()\n",
    "            if pg <= p:\n",
    "                duplicated = gene + gene\n",
    "                new_genome.append(duplicated)\n",
    "                print('Duplicated {} to {}'.format(gene,duplicated))\n",
    "            else:\n",
    "                new_genome.append(gene)\n",
    "        return new_genome\n",
    "    \n",
    "    if t == 'all':\n",
    "        all_ = ['deletion','inversion','duplication','SNP']\n",
    "        new_genome = genome[:]\n",
    "        for _ in all_:\n",
    "            new_genome = mutate(new_genome, _, p)\n",
    "        return new_genome\n",
    "                \n",
    "def translocate(gA,gB, p=0.1):\n",
    "    \n",
    "    gA_brks = []\n",
    "    for _ in range(len(gA)):\n",
    "        pg = random.random()\n",
    "        if pg <= p:\n",
    "            gA_brks.append(_)\n",
    "            \n",
    "    gB_brks = []\n",
    "    for _ in range(len(gB)):\n",
    "        pg = random.random()\n",
    "        if pg <= p:\n",
    "            gB_brks.append(_)\n",
    "    \n",
    "    if len(gA_brks) and len(gB_brks):\n",
    "        iA = random.sample(gA_brks,1)[0]\n",
    "        iB = random.sample(gB_brks,1)[0]\n",
    "        print('Breaks generated in gA[{}] and gB[{}]'.format(iA,iB))\n",
    "        derA = gA[:iA]+gB[iB:]\n",
    "        derB = gB[:iB]+gB[iA:]\n",
    "        print('Translocation done')\n",
    "        return derA, derB\n",
    "    \n",
    "    print('Translocation failed!')\n",
    "    return gA, gB"
   ]
  },
  {
   "cell_type": "code",
   "execution_count": 169,
   "metadata": {
    "collapsed": false
   },
   "outputs": [
    {
     "data": {
      "text/plain": [
       "[[40],\n",
       " [43, 93, 2, 57, 98, 19, 44],\n",
       " [87, 64, 40, 51, 6, 19, 18],\n",
       " [27, 42, 48, 58, 27, 3, 65, 22, 52, 60],\n",
       " [79, 20, 24, 68],\n",
       " [90, 48, 24, 46, 22],\n",
       " [20, 98, 0, 12, 43, 9],\n",
       " [37, 33],\n",
       " [45, 64],\n",
       " [63, 83, 11, 86, 81, 28, 98, 19, 96]]"
      ]
     },
     "execution_count": 169,
     "metadata": {},
     "output_type": "execute_result"
    }
   ],
   "source": [
    "genome = [[random.randint(0,v) for _ in range(random.randint(0,m))] for _ in range(g)]\n",
    "genome"
   ]
  },
  {
   "cell_type": "code",
   "execution_count": 172,
   "metadata": {
    "collapsed": false
   },
   "outputs": [
    {
     "name": "stdout",
     "output_type": "stream",
     "text": [
      "7 4\n",
      "SNP generated! From [43, 93, 2, 57, 98, 19, 44] to [43, 93, 2, 57, 95, 19, 44]\n",
      "7 1\n",
      "SNP generated! From [87, 64, 40, 51, 6, 19, 18] to [87, 42, 40, 51, 6, 19, 18]\n",
      "4 1\n",
      "SNP generated! From [79, 20, 24, 68] to [79, 64, 24, 68]\n",
      "6 3\n",
      "SNP generated! From [20, 98, 0, 12, 43, 9] to [20, 98, 0, 21, 43, 9]\n",
      "2 1\n",
      "SNP generated! From [45, 64] to [45, 31]\n"
     ]
    },
    {
     "data": {
      "text/plain": [
       "[[40],\n",
       " [43, 93, 2, 57, 95, 19, 44],\n",
       " [87, 42, 40, 51, 6, 19, 18],\n",
       " [27, 42, 48, 58, 27, 3, 65, 22, 52, 60],\n",
       " [79, 64, 24, 68],\n",
       " [90, 48, 24, 46, 22],\n",
       " [20, 98, 0, 21, 43, 9],\n",
       " [37, 33],\n",
       " [45, 31],\n",
       " [63, 83, 11, 86, 81, 28, 98, 19, 96]]"
      ]
     },
     "execution_count": 172,
     "metadata": {},
     "output_type": "execute_result"
    }
   ],
   "source": [
    "#SNP test\n",
    "SNP_genome = mutate(genome, t='SNP', p=0.5)\n",
    "SNP_genome"
   ]
  },
  {
   "cell_type": "code",
   "execution_count": 173,
   "metadata": {
    "collapsed": false
   },
   "outputs": [
    {
     "name": "stdout",
     "output_type": "stream",
     "text": [
      "Deleted [90, 48, 24, 46, 22]\n"
     ]
    },
    {
     "data": {
      "text/plain": [
       "[[40],\n",
       " [43, 93, 2, 57, 98, 19, 44],\n",
       " [87, 64, 40, 51, 6, 19, 18],\n",
       " [27, 42, 48, 58, 27, 3, 65, 22, 52, 60],\n",
       " [79, 20, 24, 68],\n",
       " [20, 98, 0, 12, 43, 9],\n",
       " [37, 33],\n",
       " [45, 64],\n",
       " [63, 83, 11, 86, 81, 28, 98, 19, 96]]"
      ]
     },
     "execution_count": 173,
     "metadata": {},
     "output_type": "execute_result"
    }
   ],
   "source": [
    "#Deletion test\n",
    "del_genome = mutate(genome, t='deletion', p=0.1)\n",
    "del_genome"
   ]
  },
  {
   "cell_type": "code",
   "execution_count": 174,
   "metadata": {
    "collapsed": false
   },
   "outputs": [
    {
     "data": {
      "text/plain": [
       "[[40],\n",
       " [43, 93, 2, 57, 98, 19, 44],\n",
       " [87, 64, 40, 51, 6, 19, 18],\n",
       " [27, 42, 48, 58, 27, 3, 65, 22, 52, 60],\n",
       " [79, 20, 24, 68],\n",
       " [90, 48, 24, 46, 22],\n",
       " [20, 98, 0, 12, 43, 9],\n",
       " [37, 33],\n",
       " [45, 64],\n",
       " [63, 83, 11, 86, 81, 28, 98, 19, 96]]"
      ]
     },
     "execution_count": 174,
     "metadata": {},
     "output_type": "execute_result"
    }
   ],
   "source": [
    "#Inversion test\n",
    "inv_genome = mutate(genome, t='inversion', p=0.1)\n",
    "inv_genome"
   ]
  },
  {
   "cell_type": "code",
   "execution_count": 175,
   "metadata": {
    "collapsed": false
   },
   "outputs": [
    {
     "name": "stdout",
     "output_type": "stream",
     "text": [
      "Duplicated [87, 64, 40, 51, 6, 19, 18] to [87, 64, 40, 51, 6, 19, 18, 87, 64, 40, 51, 6, 19, 18]\n",
      "Duplicated [90, 48, 24, 46, 22] to [90, 48, 24, 46, 22, 90, 48, 24, 46, 22]\n",
      "Duplicated [20, 98, 0, 12, 43, 9] to [20, 98, 0, 12, 43, 9, 20, 98, 0, 12, 43, 9]\n"
     ]
    },
    {
     "data": {
      "text/plain": [
       "[[40],\n",
       " [43, 93, 2, 57, 98, 19, 44],\n",
       " [87, 64, 40, 51, 6, 19, 18, 87, 64, 40, 51, 6, 19, 18],\n",
       " [27, 42, 48, 58, 27, 3, 65, 22, 52, 60],\n",
       " [79, 20, 24, 68],\n",
       " [90, 48, 24, 46, 22, 90, 48, 24, 46, 22],\n",
       " [20, 98, 0, 12, 43, 9, 20, 98, 0, 12, 43, 9],\n",
       " [37, 33],\n",
       " [45, 64],\n",
       " [63, 83, 11, 86, 81, 28, 98, 19, 96]]"
      ]
     },
     "execution_count": 175,
     "metadata": {},
     "output_type": "execute_result"
    }
   ],
   "source": [
    "#Duplication test\n",
    "dup_genome = mutate(genome, t='duplication', p=0.1)\n",
    "dup_genome"
   ]
  },
  {
   "cell_type": "code",
   "execution_count": 176,
   "metadata": {
    "collapsed": false
   },
   "outputs": [
    {
     "name": "stdout",
     "output_type": "stream",
     "text": [
      "Deleted [20, 98, 0, 12, 43, 9]\n",
      "Deleted [37, 33]\n",
      "1 0\n",
      "SNP generated! From [40] to [96]\n",
      "4 2\n",
      "SNP generated! From [79, 20, 24, 68] to [79, 20, 4, 68]\n",
      "9 3\n",
      "SNP generated! From [63, 83, 11, 86, 81, 28, 98, 19, 96] to [63, 83, 11, 70, 81, 28, 98, 19, 96]\n"
     ]
    },
    {
     "data": {
      "text/plain": [
       "[[96],\n",
       " [43, 93, 2, 57, 98, 19, 44],\n",
       " [87, 64, 40, 51, 6, 19, 18],\n",
       " [27, 42, 48, 58, 27, 3, 65, 22, 52, 60],\n",
       " [79, 20, 4, 68],\n",
       " [90, 48, 24, 46, 22],\n",
       " [45, 64],\n",
       " [63, 83, 11, 70, 81, 28, 98, 19, 96]]"
      ]
     },
     "execution_count": 176,
     "metadata": {},
     "output_type": "execute_result"
    }
   ],
   "source": [
    "#All test\n",
    "all_genome = mutate(genome, t='all', p=0.1)\n",
    "all_genome"
   ]
  },
  {
   "cell_type": "code",
   "execution_count": 177,
   "metadata": {
    "collapsed": true
   },
   "outputs": [],
   "source": [
    "#Translocation test\n",
    "gA = [[random.randint(0,v) for _ in range(random.randint(0,m))] for _ in range(g)]\n",
    "gB = [[random.randint(0,v) for _ in range(random.randint(0,m))] for _ in range(g)]"
   ]
  },
  {
   "cell_type": "code",
   "execution_count": 178,
   "metadata": {
    "collapsed": false
   },
   "outputs": [
    {
     "data": {
      "text/plain": [
       "[[80, 29, 82, 89],\n",
       " [90, 75, 36, 10, 8],\n",
       " [36],\n",
       " [42, 64, 56, 51, 63, 20, 81, 5, 13, 84],\n",
       " [28, 11, 90, 49, 48, 30, 75],\n",
       " [90, 25, 31, 42, 6, 30],\n",
       " [43, 65, 25, 55, 69, 0, 77, 40, 84, 18],\n",
       " [29, 46, 89, 6, 54, 22, 33, 58, 97],\n",
       " [87, 59, 100, 7],\n",
       " [94, 68, 35, 80, 21, 40]]"
      ]
     },
     "execution_count": 178,
     "metadata": {},
     "output_type": "execute_result"
    }
   ],
   "source": [
    "gA"
   ]
  },
  {
   "cell_type": "code",
   "execution_count": 179,
   "metadata": {
    "collapsed": false
   },
   "outputs": [
    {
     "data": {
      "text/plain": [
       "[[54, 13, 49, 86, 33, 12, 34, 43],\n",
       " [28, 11, 34],\n",
       " [],\n",
       " [54, 87, 92, 93, 34, 61, 54, 39, 92],\n",
       " [96, 11, 92, 31, 33, 79, 41, 27],\n",
       " [69, 21, 25, 47, 68, 57, 61],\n",
       " [63, 72, 25, 16, 2, 7],\n",
       " [],\n",
       " [45, 27, 62, 69, 38, 86, 17, 49, 3],\n",
       " [6, 62, 7, 17, 84, 89]]"
      ]
     },
     "execution_count": 179,
     "metadata": {},
     "output_type": "execute_result"
    }
   ],
   "source": [
    "gB"
   ]
  },
  {
   "cell_type": "code",
   "execution_count": 180,
   "metadata": {
    "collapsed": false
   },
   "outputs": [
    {
     "name": "stdout",
     "output_type": "stream",
     "text": [
      "Breaks generated in gA[1] and gB[2]\n",
      "Translocation done\n"
     ]
    }
   ],
   "source": [
    "derA,derB = translocate(gA,gB,p=0.5)"
   ]
  },
  {
   "cell_type": "code",
   "execution_count": 181,
   "metadata": {
    "collapsed": false
   },
   "outputs": [
    {
     "data": {
      "text/plain": [
       "[[80, 29, 82, 89],\n",
       " [],\n",
       " [54, 87, 92, 93, 34, 61, 54, 39, 92],\n",
       " [96, 11, 92, 31, 33, 79, 41, 27],\n",
       " [69, 21, 25, 47, 68, 57, 61],\n",
       " [63, 72, 25, 16, 2, 7],\n",
       " [],\n",
       " [45, 27, 62, 69, 38, 86, 17, 49, 3],\n",
       " [6, 62, 7, 17, 84, 89]]"
      ]
     },
     "execution_count": 181,
     "metadata": {},
     "output_type": "execute_result"
    }
   ],
   "source": [
    "derA"
   ]
  },
  {
   "cell_type": "code",
   "execution_count": 182,
   "metadata": {
    "collapsed": false
   },
   "outputs": [
    {
     "data": {
      "text/plain": [
       "[[54, 13, 49, 86, 33, 12, 34, 43],\n",
       " [28, 11, 34],\n",
       " [28, 11, 34],\n",
       " [],\n",
       " [54, 87, 92, 93, 34, 61, 54, 39, 92],\n",
       " [96, 11, 92, 31, 33, 79, 41, 27],\n",
       " [69, 21, 25, 47, 68, 57, 61],\n",
       " [63, 72, 25, 16, 2, 7],\n",
       " [],\n",
       " [45, 27, 62, 69, 38, 86, 17, 49, 3],\n",
       " [6, 62, 7, 17, 84, 89]]"
      ]
     },
     "execution_count": 182,
     "metadata": {},
     "output_type": "execute_result"
    }
   ],
   "source": [
    "derB"
   ]
  },
  {
   "cell_type": "code",
   "execution_count": null,
   "metadata": {
    "collapsed": true
   },
   "outputs": [],
   "source": []
  }
 ],
 "metadata": {
  "kernelspec": {
   "display_name": "Python 3",
   "language": "python",
   "name": "python3"
  },
  "language_info": {
   "codemirror_mode": {
    "name": "ipython",
    "version": 3
   },
   "file_extension": ".py",
   "mimetype": "text/x-python",
   "name": "python",
   "nbconvert_exporter": "python",
   "pygments_lexer": "ipython3",
   "version": "3.5.1"
  }
 },
 "nbformat": 4,
 "nbformat_minor": 0
}
